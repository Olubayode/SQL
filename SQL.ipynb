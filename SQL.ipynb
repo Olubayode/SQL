{
 "cells": [
  {
   "cell_type": "markdown",
   "metadata": {},
   "source": [
    "## STRUCTURED QUERY LANGUAGE (SQL)\n",
    "SQL is a programming language used for managing or querying data stored in a relational database management system (RDBMS). A relational database is a collection of data with pre-defined relationships between them. \n",
    "It consists of tables with rows and columns.\n",
    "1. Tables: holds information about objects in the database.\n",
    "2. Columns: is of a specific data type and holds the value of an attribute.\n",
    "3. Rows: reperesents a collection of related values of an object."
   ]
  },
  {
   "cell_type": "markdown",
   "metadata": {},
   "source": [
    "## PYTHON SQL LIBRARIES\n",
    "There are a number of SQL libraries that could be used with python such as SQLite, MySQL, PostgreSQL and SQLAlchemy. Our focus would be SQLite library.  This library allows us to interact with an SQLite database. SQLite databases are serverless and self-contained, since they read and write data to a file. To connect to a database, we use the conect class of the SQLite library. Theis class establishes a connection to a database file if it already exixts or create a new database file if doesnt exist."
   ]
  },
  {
   "cell_type": "code",
   "execution_count": 1,
   "metadata": {},
   "outputs": [
    {
     "name": "stdout",
     "output_type": "stream",
     "text": [
      "<sqlite3.Connection object at 0x000002DE33344D50>\n"
     ]
    }
   ],
   "source": [
    "import sqlite3\n",
    "conn = sqlite3.connect('test.db')\n",
    "print(conn)"
   ]
  },
  {
   "cell_type": "markdown",
   "metadata": {},
   "source": [
    "The connect() returns a connection object which is used to query the database file."
   ]
  },
  {
   "cell_type": "markdown",
   "metadata": {},
   "source": [
    "## CREATING TABLES\n",
    "Databases support CRUD (Create Read Update Delete) operations.\n",
    "To create a table in SQL, we use the `CREATE TABLE` statement followed by the table name. The statement `IF NOT EXISTS` is used to prevent an exception that occurs for trying to create an existing table. \n",
    "Each field in the table should be of a datatype (int, text, varchar etc) and can be set to a compulsory field using the `NOT NULL` statement. The `PRIMARY KEY` statement is used to specify a field as primary key. Primary keys are unique and are used to identify a row in a database."
   ]
  },
  {
   "cell_type": "code",
   "execution_count": 2,
   "metadata": {},
   "outputs": [],
   "source": [
    "sql_command = '''CREATE TABLE IF NOT EXISTS Student(\n",
    "student_id INT PRIMARY KEY,\n",
    "name VARCHAR(50) NOT NULL,\n",
    "gender TEXT NOT NULL,\n",
    "DOB DATE);'''"
   ]
  },
  {
   "cell_type": "markdown",
   "metadata": {},
   "source": [
    "To send an sql command to the SQL database, we need to create a cursor object. A cursor object is a control structure for tranversing through records in a database. To create a cursor object, we call the cursor() method on the connection object."
   ]
  },
  {
   "cell_type": "code",
   "execution_count": 3,
   "metadata": {},
   "outputs": [],
   "source": [
    "cursor = conn.cursor()"
   ]
  },
  {
   "cell_type": "markdown",
   "metadata": {},
   "source": [
    "To execute the query, we call the execute method on the cursor object."
   ]
  },
  {
   "cell_type": "code",
   "execution_count": 4,
   "metadata": {},
   "outputs": [
    {
     "data": {
      "text/plain": [
       "<sqlite3.Cursor at 0x2de334276c0>"
      ]
     },
     "execution_count": 4,
     "metadata": {},
     "output_type": "execute_result"
    }
   ],
   "source": [
    "cursor.execute(sql_command)"
   ]
  },
  {
   "cell_type": "markdown",
   "metadata": {},
   "source": [
    "## INSERTING VALUES INTO TABLES\n",
    "The `INSERT INTO` statement is used to insert values in to the database. Let's see how we can do that using sqlite library."
   ]
  },
  {
   "cell_type": "code",
   "execution_count": 5,
   "metadata": {},
   "outputs": [
    {
     "data": {
      "text/plain": [
       "<sqlite3.Cursor at 0x2de334276c0>"
      ]
     },
     "execution_count": 5,
     "metadata": {},
     "output_type": "execute_result"
    }
   ],
   "source": [
    "sql_command = \"\"\"INSERT INTO Student\n",
    "(student_id, name, gender, DOB) VALUES\n",
    "(149425, 'Ademide Iremide', 'Female', '1998-12-12');\"\"\"\n",
    "cursor.execute(sql_command)"
   ]
  },
  {
   "cell_type": "markdown",
   "metadata": {},
   "source": [
    "To save your changes to the database, you need to call the commit() method on the connection object."
   ]
  },
  {
   "cell_type": "code",
   "execution_count": 6,
   "metadata": {},
   "outputs": [],
   "source": [
    "conn.commit()"
   ]
  },
  {
   "cell_type": "markdown",
   "metadata": {},
   "source": [
    "To send multiple rows of data to the database, we use the executemany() method of the cursor object. This method takes the sql query and the sequence of parameters."
   ]
  },
  {
   "cell_type": "code",
   "execution_count": 8,
   "metadata": {},
   "outputs": [],
   "source": [
    "students = [(128825, 'Adam John', 'Male', '1998-10-22'),\n",
    "            (129455, 'Benedict Ebuka', 'Male', '1999-01-12'),\n",
    "            (129623, 'Amosu Kemisola', 'Female', '1997-12-02'),\n",
    "            (128455, 'James Helen', 'Female', '1998-06-12')]\n",
    "sql_command = '''INSERT INTO Student VALUES (?,?,?,?)'''\n",
    "cursor.executemany(sql_command, students)\n",
    "conn.commit()"
   ]
  },
  {
   "cell_type": "markdown",
   "metadata": {},
   "source": [
    "## RETRIEVING VALUES FROM THE DATABASE\n",
    "To retrieve values from the database, we use the `SELECT` statement. To select all fields from a table we use the `*` symbol with the Select statment. We can also specify the fields we are interested in retrieving.  We can view the retrieved values using fetchone(), fetchmany() or fetchall() methods of the cursor object."
   ]
  },
  {
   "cell_type": "code",
   "execution_count": 9,
   "metadata": {},
   "outputs": [
    {
     "data": {
      "text/plain": [
       "(148825, 'Adam John', 'Male', '1998-10-22')"
      ]
     },
     "execution_count": 9,
     "metadata": {},
     "output_type": "execute_result"
    }
   ],
   "source": [
    "sql_command = '''SELECT * FROM Student'''\n",
    "cursor.execute(sql_command)\n",
    "cursor.fetchone() # retrieves the first row"
   ]
  },
  {
   "cell_type": "markdown",
   "metadata": {},
   "source": [
    "In the code below, we are interested in retrieving only the student_id and name fields from the Student table."
   ]
  },
  {
   "cell_type": "code",
   "execution_count": 10,
   "metadata": {},
   "outputs": [
    {
     "data": {
      "text/plain": [
       "[(148825, 'Adam John'),\n",
       " (149455, 'Benedict Ebuka'),\n",
       " (149623, 'Amosu Kemisola'),\n",
       " (148455, 'James Helen'),\n",
       " (151238, 'Chinedu Ruth'),\n",
       " (151240, 'Tayo Adeleke'),\n",
       " (158825, 'Adam John'),\n",
       " (159455, 'Benedict Ebuka'),\n",
       " (159623, 'Amosu Kemisola'),\n",
       " (158455, 'James Helen')]"
      ]
     },
     "execution_count": 10,
     "metadata": {},
     "output_type": "execute_result"
    }
   ],
   "source": [
    "sql_command = '''Select student_id, name from Student'''\n",
    "cursor.execute(sql_command)\n",
    "cursor.fetchmany(10)"
   ]
  },
  {
   "cell_type": "markdown",
   "metadata": {},
   "source": [
    "We can also filter the data we need from a table using the `WHERE` clause with comparison operators such as ` =, >, >= , LIKE` etc."
   ]
  },
  {
   "cell_type": "code",
   "execution_count": 11,
   "metadata": {},
   "outputs": [
    {
     "data": {
      "text/plain": [
       "[(148825, 'Adam John', 'Male', '1998-10-22'),\n",
       " (149455, 'Benedict Ebuka', 'Male', '1999-01-12'),\n",
       " (151238, 'Chinedu Ruth', 'Male', '1998-04-26'),\n",
       " (151240, 'Tayo Adeleke', 'Male', '1999-10-09'),\n",
       " (158825, 'Adam John', 'Male', '1998-10-22'),\n",
       " (159455, 'Benedict Ebuka', 'Male', '1999-01-12'),\n",
       " (168825, 'Adam John', 'Male', '1998-10-22'),\n",
       " (169455, 'Benedict Ebuka', 'Male', '1999-01-12'),\n",
       " (161238, 'Chinedu Ruth', 'Male', '1998-04-26'),\n",
       " (161240, 'Tayo Adeleke', 'Male', '1999-10-09'),\n",
       " (128825, 'Adam John', 'Male', '1998-10-22'),\n",
       " (129455, 'Benedict Ebuka', 'Male', '1999-01-12')]"
      ]
     },
     "execution_count": 11,
     "metadata": {},
     "output_type": "execute_result"
    }
   ],
   "source": [
    "sql_command = '''Select * from Student \n",
    "where gender = \"Male\" '''\n",
    "cursor.execute(sql_command)\n",
    "cursor.fetchall()"
   ]
  },
  {
   "cell_type": "code",
   "execution_count": 12,
   "metadata": {},
   "outputs": [
    {
     "data": {
      "text/plain": [
       "[(148825, 'Adam John', 'Male', '1998-10-22'),\n",
       " (158825, 'Adam John', 'Male', '1998-10-22'),\n",
       " (168825, 'Adam John', 'Male', '1998-10-22'),\n",
       " (149425, 'Ademide Iremide', 'Female', '1998-12-12'),\n",
       " (128825, 'Adam John', 'Male', '1998-10-22')]"
      ]
     },
     "execution_count": 12,
     "metadata": {},
     "output_type": "execute_result"
    }
   ],
   "source": [
    "sql_command = '''Select * from Student \n",
    "where name LIKE \"Ad%\" '''\n",
    "cursor.execute(sql_command)\n",
    "cursor.fetchall()"
   ]
  },
  {
   "cell_type": "markdown",
   "metadata": {},
   "source": [
    "## UPDATING VALUES IN THE DATABASE\n",
    "To update values of a row in a table, we use the `UPDATE STATEMENT`. This statement is used with the where clause to identify row(s) you want to modify.  "
   ]
  },
  {
   "cell_type": "code",
   "execution_count": 13,
   "metadata": {},
   "outputs": [],
   "source": [
    "sql_command = '''UPDATE student SET \n",
    "name = \"Ademide Irepodun\", gender = \"Male\" where student_id =149425'''\n",
    "cursor.execute(sql_command)\n",
    "conn.commit()"
   ]
  },
  {
   "cell_type": "code",
   "execution_count": 14,
   "metadata": {},
   "outputs": [
    {
     "data": {
      "text/plain": [
       "[(149425, 'Ademide Irepodun', 'Male', '1998-12-12')]"
      ]
     },
     "execution_count": 14,
     "metadata": {},
     "output_type": "execute_result"
    }
   ],
   "source": [
    "sql_command = '''Select * from Student \n",
    "where student_id = 149425 '''\n",
    "cursor.execute(sql_command)\n",
    "cursor.fetchall()"
   ]
  },
  {
   "cell_type": "code",
   "execution_count": 15,
   "metadata": {},
   "outputs": [
    {
     "data": {
      "text/plain": [
       "(148825, 'Adam John', 'Male', '1998-10-22')"
      ]
     },
     "execution_count": 15,
     "metadata": {},
     "output_type": "execute_result"
    }
   ],
   "source": [
    "cursor.execute('Select * from Student')\n",
    "cursor.fetchone()"
   ]
  },
  {
   "cell_type": "markdown",
   "metadata": {},
   "source": [
    "## DELETING FROM THE DATABASE\n",
    "To delete from  a row from a table, we use the `DELETE STATEMENT.` This statement can be used with a where clause to identify the row(s) to delete from the table. If no where clause is included, the entire data in the table would be deleted but the table remains. To delete a table from the database, we use the `DROP STATEMENT`. To delete the data contained in a table, we use the `TRUNCATE STATEMENT`."
   ]
  },
  {
   "cell_type": "code",
   "execution_count": 16,
   "metadata": {},
   "outputs": [],
   "source": [
    "sql_command = '''DELETE from Student where\n",
    "student_id = 149425'''\n",
    "cursor.execute(sql_command)\n",
    "conn.commit()"
   ]
  },
  {
   "cell_type": "code",
   "execution_count": 17,
   "metadata": {},
   "outputs": [
    {
     "data": {
      "text/plain": [
       "[(148825, 'Adam John', 'Male', '1998-10-22'),\n",
       " (149455, 'Benedict Ebuka', 'Male', '1999-01-12'),\n",
       " (149623, 'Amosu Kemisola', 'Female', '1997-12-02'),\n",
       " (148455, 'James Helen', 'Female', '1998-06-12'),\n",
       " (151238, 'Chinedu Ruth', 'Male', '1998-04-26'),\n",
       " (151240, 'Tayo Adeleke', 'Male', '1999-10-09'),\n",
       " (158825, 'Adam John', 'Male', '1998-10-22'),\n",
       " (159455, 'Benedict Ebuka', 'Male', '1999-01-12'),\n",
       " (159623, 'Amosu Kemisola', 'Female', '1997-12-02'),\n",
       " (158455, 'James Helen', 'Female', '1998-06-12'),\n",
       " (168825, 'Adam John', 'Male', '1998-10-22'),\n",
       " (169455, 'Benedict Ebuka', 'Male', '1999-01-12'),\n",
       " (169623, 'Amosu Kemisola', 'Female', '1997-12-02'),\n",
       " (168455, 'James Helen', 'Female', '1998-06-12'),\n",
       " (161238, 'Chinedu Ruth', 'Male', '1998-04-26'),\n",
       " (161240, 'Tayo Adeleke', 'Male', '1999-10-09'),\n",
       " (128825, 'Adam John', 'Male', '1998-10-22'),\n",
       " (129455, 'Benedict Ebuka', 'Male', '1999-01-12'),\n",
       " (129623, 'Amosu Kemisola', 'Female', '1997-12-02'),\n",
       " (128455, 'James Helen', 'Female', '1998-06-12')]"
      ]
     },
     "execution_count": 17,
     "metadata": {},
     "output_type": "execute_result"
    }
   ],
   "source": [
    "cursor.execute('select * from Student')\n",
    "cursor.fetchall()"
   ]
  },
  {
   "cell_type": "code",
   "execution_count": 23,
   "metadata": {},
   "outputs": [],
   "source": [
    "# sql_command = '''Drop Table Student'''\n",
    "# sql_command = '''Truncate table Student'''"
   ]
  },
  {
   "cell_type": "markdown",
   "metadata": {},
   "source": [
    "## ORDERING DATA \n",
    "When we retrieve data from the database, the data is returned in the same order in which the data was inserted (row id). To retrieve data in a different order, we use the `ORDER BY` statement. We can also specify if the ordering should be ascending(ASC) or descending(DESC). By default, it is ascending."
   ]
  },
  {
   "cell_type": "code",
   "execution_count": 24,
   "metadata": {},
   "outputs": [
    {
     "data": {
      "text/plain": [
       "[(169623, 'Amosu Kemisola', 'Female', '1997-12-02'),\n",
       " (169455, 'Benedict Ebuka', 'Male', '1999-01-12'),\n",
       " (168825, 'Adam John', 'Male', '1998-10-22'),\n",
       " (168455, 'James Helen', 'Female', '1998-06-12'),\n",
       " (161240, 'Tayo Adeleke', 'Male', '1999-10-09'),\n",
       " (161238, 'Chinedu Ruth', 'Male', '1998-04-26'),\n",
       " (159623, 'Amosu Kemisola', 'Female', '1997-12-02'),\n",
       " (159455, 'Benedict Ebuka', 'Male', '1999-01-12'),\n",
       " (158825, 'Adam John', 'Male', '1998-10-22'),\n",
       " (158455, 'James Helen', 'Female', '1998-06-12'),\n",
       " (151240, 'Tayo Adeleke', 'Male', '1999-10-09'),\n",
       " (151238, 'Chinedu Ruth', 'Male', '1998-04-26'),\n",
       " (149623, 'Amosu Kemisola', 'Female', '1997-12-02'),\n",
       " (149455, 'Benedict Ebuka', 'Male', '1999-01-12'),\n",
       " (148825, 'Adam John', 'Male', '1998-10-22'),\n",
       " (148455, 'James Helen', 'Female', '1998-06-12'),\n",
       " (129623, 'Amosu Kemisola', 'Female', '1997-12-02'),\n",
       " (129455, 'Benedict Ebuka', 'Male', '1999-01-12'),\n",
       " (128825, 'Adam John', 'Male', '1998-10-22'),\n",
       " (128455, 'James Helen', 'Female', '1998-06-12')]"
      ]
     },
     "execution_count": 24,
     "metadata": {},
     "output_type": "execute_result"
    }
   ],
   "source": [
    "sql_command = '''SELECT * from Student ORDER BY \n",
    "student_id DESC'''\n",
    "cursor.execute(sql_command)\n",
    "cursor.fetchall()"
   ]
  },
  {
   "cell_type": "markdown",
   "metadata": {},
   "source": [
    "## FOREIGN KEY\n",
    "The foreign key in a table is a primary key in another table. It is used for linking tables together. To indicate a field as foreign key, we use the `FOREIGN KEY` statement and the `REFERENCES` statement to specify the primary key and table name we want to link."
   ]
  },
  {
   "cell_type": "code",
   "execution_count": 25,
   "metadata": {},
   "outputs": [
    {
     "data": {
      "text/plain": [
       "<sqlite3.Cursor at 0x2de334276c0>"
      ]
     },
     "execution_count": 25,
     "metadata": {},
     "output_type": "execute_result"
    }
   ],
   "source": [
    "sql_command = '''CREATE TABLE IF NOT EXISTS scores \n",
    "(score_id INTEGER PRIMARY KEY AUTOINCREMENT,\n",
    "student_id INT,\n",
    "score INT NOT NULL,\n",
    "FOREIGN KEY (student_id) REFERENCES Student(student_id)\n",
    ");'''\n",
    "cursor.execute(sql_command)"
   ]
  },
  {
   "cell_type": "code",
   "execution_count": 26,
   "metadata": {},
   "outputs": [],
   "source": [
    "sql_command = '''INSERT INTO scores (student_id, score)\n",
    "VALUES (?,?)'''\n",
    "scores = [(149623, 55),\n",
    "          (149455,84),\n",
    "          (149623,67),\n",
    "          (148455,73)]\n",
    "cursor.executemany(sql_command, scores)\n",
    "conn.commit()"
   ]
  },
  {
   "cell_type": "code",
   "execution_count": 27,
   "metadata": {},
   "outputs": [
    {
     "data": {
      "text/plain": [
       "[(1, 149623, 55),\n",
       " (2, 149455, 84),\n",
       " (3, 149623, 67),\n",
       " (4, 148455, 73),\n",
       " (5, 149623, 55),\n",
       " (6, 149455, 84),\n",
       " (7, 149623, 67),\n",
       " (8, 148455, 73),\n",
       " (9, 149623, 55),\n",
       " (10, 149455, 84),\n",
       " (11, 149623, 67),\n",
       " (12, 148455, 73),\n",
       " (13, 149623, 55),\n",
       " (14, 149455, 84),\n",
       " (15, 149623, 67),\n",
       " (16, 148455, 73)]"
      ]
     },
     "execution_count": 27,
     "metadata": {},
     "output_type": "execute_result"
    }
   ],
   "source": [
    "cursor.execute('select * from scores')\n",
    "cursor.fetchall()"
   ]
  },
  {
   "attachments": {
    "1ab21d14-bc3a-4406-bc5c-d165215df5fa.png": {
     "image/png": "[encoded data removed]"
    }
   },
   "cell_type": "markdown",
   "metadata": {},
   "source": [
    "## THE JOIN KEYWORD\n",
    "The join statement is used to query data from multiple tables. These tables must have a common field which we define using the `ON` keyword with `JOIN`. There are four types of join as seen below.\n",
    "![image.png](attachment:1ab21d14-bc3a-4406-bc5c-d165215df5fa.png)"
   ]
  },
  {
   "cell_type": "code",
   "execution_count": 28,
   "metadata": {},
   "outputs": [
    {
     "data": {
      "text/plain": [
       "[('Amosu Kemisola', 55),\n",
       " ('Benedict Ebuka', 84),\n",
       " ('Amosu Kemisola', 67),\n",
       " ('James Helen', 73),\n",
       " ('Amosu Kemisola', 55),\n",
       " ('Benedict Ebuka', 84),\n",
       " ('Amosu Kemisola', 67),\n",
       " ('James Helen', 73),\n",
       " ('Amosu Kemisola', 55),\n",
       " ('Benedict Ebuka', 84),\n",
       " ('Amosu Kemisola', 67),\n",
       " ('James Helen', 73),\n",
       " ('Amosu Kemisola', 55),\n",
       " ('Benedict Ebuka', 84),\n",
       " ('Amosu Kemisola', 67),\n",
       " ('James Helen', 73)]"
      ]
     },
     "execution_count": 28,
     "metadata": {},
     "output_type": "execute_result"
    }
   ],
   "source": [
    "sql_command = '''select Student.name,\n",
    "scores.score from Student INNER JOIN scores\n",
    "ON Student.student_id = scores.student_id'''\n",
    "cursor.execute(sql_command)\n",
    "cursor.fetchall()"
   ]
  },
  {
   "cell_type": "markdown",
   "metadata": {},
   "source": [
    "## READING AND WRITING TO DATABASE USING PANDAS\n",
    "We can read and write data to the database using Pandas. The read_sql_query method of pandas library allows us to work with table data as a dataframe."
   ]
  },
  {
   "cell_type": "code",
   "execution_count": 29,
   "metadata": {},
   "outputs": [
    {
     "data": {
      "text/html": [
       "<div>\n",
       "<style scoped>\n",
       "    .dataframe tbody tr th:only-of-type {\n",
       "        vertical-align: middle;\n",
       "    }\n",
       "\n",
       "    .dataframe tbody tr th {\n",
       "        vertical-align: top;\n",
       "    }\n",
       "\n",
       "    .dataframe thead th {\n",
       "        text-align: right;\n",
       "    }\n",
       "</style>\n",
       "<table border=\"1\" class=\"dataframe\">\n",
       "  <thead>\n",
       "    <tr style=\"text-align: right;\">\n",
       "      <th></th>\n",
       "      <th>student_id</th>\n",
       "      <th>name</th>\n",
       "      <th>gender</th>\n",
       "      <th>DOB</th>\n",
       "    </tr>\n",
       "  </thead>\n",
       "  <tbody>\n",
       "    <tr>\n",
       "      <th>0</th>\n",
       "      <td>148825</td>\n",
       "      <td>Adam John</td>\n",
       "      <td>Male</td>\n",
       "      <td>1998-10-22</td>\n",
       "    </tr>\n",
       "    <tr>\n",
       "      <th>1</th>\n",
       "      <td>149455</td>\n",
       "      <td>Benedict Ebuka</td>\n",
       "      <td>Male</td>\n",
       "      <td>1999-01-12</td>\n",
       "    </tr>\n",
       "    <tr>\n",
       "      <th>2</th>\n",
       "      <td>149623</td>\n",
       "      <td>Amosu Kemisola</td>\n",
       "      <td>Female</td>\n",
       "      <td>1997-12-02</td>\n",
       "    </tr>\n",
       "    <tr>\n",
       "      <th>3</th>\n",
       "      <td>148455</td>\n",
       "      <td>James Helen</td>\n",
       "      <td>Female</td>\n",
       "      <td>1998-06-12</td>\n",
       "    </tr>\n",
       "    <tr>\n",
       "      <th>4</th>\n",
       "      <td>151238</td>\n",
       "      <td>Chinedu Ruth</td>\n",
       "      <td>Male</td>\n",
       "      <td>1998-04-26</td>\n",
       "    </tr>\n",
       "    <tr>\n",
       "      <th>5</th>\n",
       "      <td>151240</td>\n",
       "      <td>Tayo Adeleke</td>\n",
       "      <td>Male</td>\n",
       "      <td>1999-10-09</td>\n",
       "    </tr>\n",
       "    <tr>\n",
       "      <th>6</th>\n",
       "      <td>158825</td>\n",
       "      <td>Adam John</td>\n",
       "      <td>Male</td>\n",
       "      <td>1998-10-22</td>\n",
       "    </tr>\n",
       "    <tr>\n",
       "      <th>7</th>\n",
       "      <td>159455</td>\n",
       "      <td>Benedict Ebuka</td>\n",
       "      <td>Male</td>\n",
       "      <td>1999-01-12</td>\n",
       "    </tr>\n",
       "    <tr>\n",
       "      <th>8</th>\n",
       "      <td>159623</td>\n",
       "      <td>Amosu Kemisola</td>\n",
       "      <td>Female</td>\n",
       "      <td>1997-12-02</td>\n",
       "    </tr>\n",
       "    <tr>\n",
       "      <th>9</th>\n",
       "      <td>158455</td>\n",
       "      <td>James Helen</td>\n",
       "      <td>Female</td>\n",
       "      <td>1998-06-12</td>\n",
       "    </tr>\n",
       "    <tr>\n",
       "      <th>10</th>\n",
       "      <td>168825</td>\n",
       "      <td>Adam John</td>\n",
       "      <td>Male</td>\n",
       "      <td>1998-10-22</td>\n",
       "    </tr>\n",
       "    <tr>\n",
       "      <th>11</th>\n",
       "      <td>169455</td>\n",
       "      <td>Benedict Ebuka</td>\n",
       "      <td>Male</td>\n",
       "      <td>1999-01-12</td>\n",
       "    </tr>\n",
       "    <tr>\n",
       "      <th>12</th>\n",
       "      <td>169623</td>\n",
       "      <td>Amosu Kemisola</td>\n",
       "      <td>Female</td>\n",
       "      <td>1997-12-02</td>\n",
       "    </tr>\n",
       "    <tr>\n",
       "      <th>13</th>\n",
       "      <td>168455</td>\n",
       "      <td>James Helen</td>\n",
       "      <td>Female</td>\n",
       "      <td>1998-06-12</td>\n",
       "    </tr>\n",
       "    <tr>\n",
       "      <th>14</th>\n",
       "      <td>161238</td>\n",
       "      <td>Chinedu Ruth</td>\n",
       "      <td>Male</td>\n",
       "      <td>1998-04-26</td>\n",
       "    </tr>\n",
       "    <tr>\n",
       "      <th>15</th>\n",
       "      <td>161240</td>\n",
       "      <td>Tayo Adeleke</td>\n",
       "      <td>Male</td>\n",
       "      <td>1999-10-09</td>\n",
       "    </tr>\n",
       "    <tr>\n",
       "      <th>16</th>\n",
       "      <td>128825</td>\n",
       "      <td>Adam John</td>\n",
       "      <td>Male</td>\n",
       "      <td>1998-10-22</td>\n",
       "    </tr>\n",
       "    <tr>\n",
       "      <th>17</th>\n",
       "      <td>129455</td>\n",
       "      <td>Benedict Ebuka</td>\n",
       "      <td>Male</td>\n",
       "      <td>1999-01-12</td>\n",
       "    </tr>\n",
       "    <tr>\n",
       "      <th>18</th>\n",
       "      <td>129623</td>\n",
       "      <td>Amosu Kemisola</td>\n",
       "      <td>Female</td>\n",
       "      <td>1997-12-02</td>\n",
       "    </tr>\n",
       "    <tr>\n",
       "      <th>19</th>\n",
       "      <td>128455</td>\n",
       "      <td>James Helen</td>\n",
       "      <td>Female</td>\n",
       "      <td>1998-06-12</td>\n",
       "    </tr>\n",
       "  </tbody>\n",
       "</table>\n",
       "</div>"
      ],
      "text/plain": [
       "    student_id            name  gender         DOB\n",
       "0       148825       Adam John    Male  1998-10-22\n",
       "1       149455  Benedict Ebuka    Male  1999-01-12\n",
       "2       149623  Amosu Kemisola  Female  1997-12-02\n",
       "3       148455     James Helen  Female  1998-06-12\n",
       "4       151238    Chinedu Ruth    Male  1998-04-26\n",
       "5       151240    Tayo Adeleke    Male  1999-10-09\n",
       "6       158825       Adam John    Male  1998-10-22\n",
       "7       159455  Benedict Ebuka    Male  1999-01-12\n",
       "8       159623  Amosu Kemisola  Female  1997-12-02\n",
       "9       158455     James Helen  Female  1998-06-12\n",
       "10      168825       Adam John    Male  1998-10-22\n",
       "11      169455  Benedict Ebuka    Male  1999-01-12\n",
       "12      169623  Amosu Kemisola  Female  1997-12-02\n",
       "13      168455     James Helen  Female  1998-06-12\n",
       "14      161238    Chinedu Ruth    Male  1998-04-26\n",
       "15      161240    Tayo Adeleke    Male  1999-10-09\n",
       "16      128825       Adam John    Male  1998-10-22\n",
       "17      129455  Benedict Ebuka    Male  1999-01-12\n",
       "18      129623  Amosu Kemisola  Female  1997-12-02\n",
       "19      128455     James Helen  Female  1998-06-12"
      ]
     },
     "execution_count": 29,
     "metadata": {},
     "output_type": "execute_result"
    }
   ],
   "source": [
    "import pandas as pd\n",
    "sql_command = '''Select * from Student'''\n",
    "df = pd.read_sql_query(sql_command, conn)\n",
    "df"
   ]
  },
  {
   "cell_type": "markdown",
   "metadata": {},
   "source": [
    "We can also use the read_sql method of pandas which is a wrapper around the read_sql_table and read_sql_query methods of pandas."
   ]
  },
  {
   "cell_type": "code",
   "execution_count": 30,
   "metadata": {},
   "outputs": [
    {
     "data": {
      "text/html": [
       "<div>\n",
       "<style scoped>\n",
       "    .dataframe tbody tr th:only-of-type {\n",
       "        vertical-align: middle;\n",
       "    }\n",
       "\n",
       "    .dataframe tbody tr th {\n",
       "        vertical-align: top;\n",
       "    }\n",
       "\n",
       "    .dataframe thead th {\n",
       "        text-align: right;\n",
       "    }\n",
       "</style>\n",
       "<table border=\"1\" class=\"dataframe\">\n",
       "  <thead>\n",
       "    <tr style=\"text-align: right;\">\n",
       "      <th></th>\n",
       "      <th>student_id</th>\n",
       "      <th>name</th>\n",
       "    </tr>\n",
       "  </thead>\n",
       "  <tbody>\n",
       "    <tr>\n",
       "      <th>0</th>\n",
       "      <td>148825</td>\n",
       "      <td>Adam John</td>\n",
       "    </tr>\n",
       "    <tr>\n",
       "      <th>1</th>\n",
       "      <td>149455</td>\n",
       "      <td>Benedict Ebuka</td>\n",
       "    </tr>\n",
       "    <tr>\n",
       "      <th>2</th>\n",
       "      <td>149623</td>\n",
       "      <td>Amosu Kemisola</td>\n",
       "    </tr>\n",
       "    <tr>\n",
       "      <th>3</th>\n",
       "      <td>148455</td>\n",
       "      <td>James Helen</td>\n",
       "    </tr>\n",
       "    <tr>\n",
       "      <th>4</th>\n",
       "      <td>151238</td>\n",
       "      <td>Chinedu Ruth</td>\n",
       "    </tr>\n",
       "    <tr>\n",
       "      <th>5</th>\n",
       "      <td>151240</td>\n",
       "      <td>Tayo Adeleke</td>\n",
       "    </tr>\n",
       "    <tr>\n",
       "      <th>6</th>\n",
       "      <td>158825</td>\n",
       "      <td>Adam John</td>\n",
       "    </tr>\n",
       "    <tr>\n",
       "      <th>7</th>\n",
       "      <td>159455</td>\n",
       "      <td>Benedict Ebuka</td>\n",
       "    </tr>\n",
       "    <tr>\n",
       "      <th>8</th>\n",
       "      <td>159623</td>\n",
       "      <td>Amosu Kemisola</td>\n",
       "    </tr>\n",
       "    <tr>\n",
       "      <th>9</th>\n",
       "      <td>158455</td>\n",
       "      <td>James Helen</td>\n",
       "    </tr>\n",
       "    <tr>\n",
       "      <th>10</th>\n",
       "      <td>168825</td>\n",
       "      <td>Adam John</td>\n",
       "    </tr>\n",
       "    <tr>\n",
       "      <th>11</th>\n",
       "      <td>169455</td>\n",
       "      <td>Benedict Ebuka</td>\n",
       "    </tr>\n",
       "    <tr>\n",
       "      <th>12</th>\n",
       "      <td>169623</td>\n",
       "      <td>Amosu Kemisola</td>\n",
       "    </tr>\n",
       "    <tr>\n",
       "      <th>13</th>\n",
       "      <td>168455</td>\n",
       "      <td>James Helen</td>\n",
       "    </tr>\n",
       "    <tr>\n",
       "      <th>14</th>\n",
       "      <td>161238</td>\n",
       "      <td>Chinedu Ruth</td>\n",
       "    </tr>\n",
       "    <tr>\n",
       "      <th>15</th>\n",
       "      <td>161240</td>\n",
       "      <td>Tayo Adeleke</td>\n",
       "    </tr>\n",
       "    <tr>\n",
       "      <th>16</th>\n",
       "      <td>128825</td>\n",
       "      <td>Adam John</td>\n",
       "    </tr>\n",
       "    <tr>\n",
       "      <th>17</th>\n",
       "      <td>129455</td>\n",
       "      <td>Benedict Ebuka</td>\n",
       "    </tr>\n",
       "    <tr>\n",
       "      <th>18</th>\n",
       "      <td>129623</td>\n",
       "      <td>Amosu Kemisola</td>\n",
       "    </tr>\n",
       "    <tr>\n",
       "      <th>19</th>\n",
       "      <td>128455</td>\n",
       "      <td>James Helen</td>\n",
       "    </tr>\n",
       "  </tbody>\n",
       "</table>\n",
       "</div>"
      ],
      "text/plain": [
       "    student_id            name\n",
       "0       148825       Adam John\n",
       "1       149455  Benedict Ebuka\n",
       "2       149623  Amosu Kemisola\n",
       "3       148455     James Helen\n",
       "4       151238    Chinedu Ruth\n",
       "5       151240    Tayo Adeleke\n",
       "6       158825       Adam John\n",
       "7       159455  Benedict Ebuka\n",
       "8       159623  Amosu Kemisola\n",
       "9       158455     James Helen\n",
       "10      168825       Adam John\n",
       "11      169455  Benedict Ebuka\n",
       "12      169623  Amosu Kemisola\n",
       "13      168455     James Helen\n",
       "14      161238    Chinedu Ruth\n",
       "15      161240    Tayo Adeleke\n",
       "16      128825       Adam John\n",
       "17      129455  Benedict Ebuka\n",
       "18      129623  Amosu Kemisola\n",
       "19      128455     James Helen"
      ]
     },
     "execution_count": 30,
     "metadata": {},
     "output_type": "execute_result"
    }
   ],
   "source": [
    "df = pd.read_sql(\"Select student_id, name from Student\", conn)\n",
    "df"
   ]
  },
  {
   "cell_type": "markdown",
   "metadata": {},
   "source": [
    "To save a dataframe as an sql table, we use the to_sql method of pandas. These method takes a number of parameters such as the table name, the db connection, index, if_exists. for more information on this method, visit https://pandas.pydata.org/pandas-docs/stable/reference/api/pandas.DataFrame.to_sql.html"
   ]
  },
  {
   "cell_type": "code",
   "execution_count": 33,
   "metadata": {},
   "outputs": [
    {
     "data": {
      "text/html": [
       "<div>\n",
       "<style scoped>\n",
       "    .dataframe tbody tr th:only-of-type {\n",
       "        vertical-align: middle;\n",
       "    }\n",
       "\n",
       "    .dataframe tbody tr th {\n",
       "        vertical-align: top;\n",
       "    }\n",
       "\n",
       "    .dataframe thead th {\n",
       "        text-align: right;\n",
       "    }\n",
       "</style>\n",
       "<table border=\"1\" class=\"dataframe\">\n",
       "  <thead>\n",
       "    <tr style=\"text-align: right;\">\n",
       "      <th></th>\n",
       "      <th>student_id</th>\n",
       "      <th>name</th>\n",
       "      <th>gender</th>\n",
       "      <th>DOB</th>\n",
       "    </tr>\n",
       "  </thead>\n",
       "  <tbody>\n",
       "    <tr>\n",
       "      <th>0</th>\n",
       "      <td>131238</td>\n",
       "      <td>Chinedu Ruth</td>\n",
       "      <td>Male</td>\n",
       "      <td>1998-04-26</td>\n",
       "    </tr>\n",
       "    <tr>\n",
       "      <th>1</th>\n",
       "      <td>131240</td>\n",
       "      <td>Tayo Adeleke</td>\n",
       "      <td>Male</td>\n",
       "      <td>1999-10-09</td>\n",
       "    </tr>\n",
       "  </tbody>\n",
       "</table>\n",
       "</div>"
      ],
      "text/plain": [
       "   student_id          name gender         DOB\n",
       "0      131238  Chinedu Ruth   Male  1998-04-26\n",
       "1      131240  Tayo Adeleke   Male  1999-10-09"
      ]
     },
     "execution_count": 33,
     "metadata": {},
     "output_type": "execute_result"
    }
   ],
   "source": [
    "df = pd.DataFrame({'student_id':[131238, 131240],\n",
    "                  'name':['Chinedu Ruth','Tayo Adeleke'],\n",
    "                  'gender':['Male', 'Male'],\n",
    "                  'DOB':['1998-04-26', '1999-10-09']})\n",
    "df"
   ]
  },
  {
   "cell_type": "code",
   "execution_count": 34,
   "metadata": {},
   "outputs": [],
   "source": [
    "df.to_sql('Student', conn, index = False, if_exists = 'append')"
   ]
  },
  {
   "cell_type": "code",
   "execution_count": 35,
   "metadata": {},
   "outputs": [
    {
     "data": {
      "text/plain": [
       "[(148825, 'Adam John', 'Male', '1998-10-22'),\n",
       " (149455, 'Benedict Ebuka', 'Male', '1999-01-12'),\n",
       " (149623, 'Amosu Kemisola', 'Female', '1997-12-02'),\n",
       " (148455, 'James Helen', 'Female', '1998-06-12'),\n",
       " (151238, 'Chinedu Ruth', 'Male', '1998-04-26'),\n",
       " (151240, 'Tayo Adeleke', 'Male', '1999-10-09'),\n",
       " (158825, 'Adam John', 'Male', '1998-10-22'),\n",
       " (159455, 'Benedict Ebuka', 'Male', '1999-01-12'),\n",
       " (159623, 'Amosu Kemisola', 'Female', '1997-12-02'),\n",
       " (158455, 'James Helen', 'Female', '1998-06-12'),\n",
       " (168825, 'Adam John', 'Male', '1998-10-22'),\n",
       " (169455, 'Benedict Ebuka', 'Male', '1999-01-12'),\n",
       " (169623, 'Amosu Kemisola', 'Female', '1997-12-02'),\n",
       " (168455, 'James Helen', 'Female', '1998-06-12'),\n",
       " (161238, 'Chinedu Ruth', 'Male', '1998-04-26'),\n",
       " (161240, 'Tayo Adeleke', 'Male', '1999-10-09'),\n",
       " (128825, 'Adam John', 'Male', '1998-10-22'),\n",
       " (129455, 'Benedict Ebuka', 'Male', '1999-01-12'),\n",
       " (129623, 'Amosu Kemisola', 'Female', '1997-12-02'),\n",
       " (128455, 'James Helen', 'Female', '1998-06-12'),\n",
       " (131238, 'Chinedu Ruth', 'Male', '1998-04-26'),\n",
       " (131240, 'Tayo Adeleke', 'Male', '1999-10-09')]"
      ]
     },
     "execution_count": 35,
     "metadata": {},
     "output_type": "execute_result"
    }
   ],
   "source": [
    "cursor.execute('select * from Student')\n",
    "cursor.fetchall()"
   ]
  },
  {
   "cell_type": "code",
   "execution_count": null,
   "metadata": {},
   "outputs": [],
   "source": []
  },
  {
   "cell_type": "code",
   "execution_count": null,
   "metadata": {},
   "outputs": [],
   "source": []
  }
 ],
 "metadata": {
  "kernelspec": {
   "display_name": "Python 3",
   "language": "python",
   "name": "python3"
  },
  "language_info": {
   "codemirror_mode": {
    "name": "ipython",
    "version": 3
   },
   "file_extension": ".py",
   "mimetype": "text/x-python",
   "name": "python",
   "nbconvert_exporter": "python",
   "pygments_lexer": "ipython3",
   "version": "3.8.3"
  }
 },
 "nbformat": 4,
 "nbformat_minor": 4
}
